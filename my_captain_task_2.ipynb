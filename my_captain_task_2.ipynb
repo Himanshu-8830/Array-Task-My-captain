{
  "nbformat": 4,
  "nbformat_minor": 0,
  "metadata": {
    "colab": {
      "name": "my captain task 2",
      "provenance": [],
      "authorship_tag": "ABX9TyOsM1TjOgs7QM8o4ATqxSlQ",
      "include_colab_link": true
    },
    "kernelspec": {
      "name": "python3",
      "display_name": "Python 3"
    },
    "language_info": {
      "name": "python"
    }
  },
  "cells": [
    {
      "cell_type": "markdown",
      "metadata": {
        "id": "view-in-github",
        "colab_type": "text"
      },
      "source": [
        "<a href=\"https://colab.research.google.com/github/Himanshu-8830/Array-Task-My-captain/blob/main/my_captain_task_2.ipynb\" target=\"_parent\"><img src=\"https://colab.research.google.com/assets/colab-badge.svg\" alt=\"Open In Colab\"/></a>"
      ]
    },
    {
      "cell_type": "markdown",
      "metadata": {
        "id": "zcwBFrVyN7ly"
      },
      "source": [
        "fibonaaci series using function"
      ]
    },
    {
      "cell_type": "code",
      "metadata": {
        "colab": {
          "base_uri": "https://localhost:8080/"
        },
        "id": "2VYDhAs5OB7B",
        "outputId": "7bf1ca64-1659-419f-ac0e-8f564c3f6dcd"
      },
      "source": [
        "def fibo(n):\n",
        "  if(n<=1):\n",
        "    return n\n",
        "  else:\n",
        "    return(fibo(n-1)+fibo(n-2))\n",
        "n=int(input(\"Enter the limit:\"))\n",
        "print(\"Fibonacci series\")\n",
        "for i in range(n):\n",
        "  print(fibo(i))"
      ],
      "execution_count": 34,
      "outputs": [
        {
          "output_type": "stream",
          "text": [
            "Enter the limit:15\n",
            "Fibonacci series\n",
            "0\n",
            "1\n",
            "1\n",
            "2\n",
            "3\n",
            "5\n",
            "8\n",
            "13\n",
            "21\n",
            "34\n",
            "55\n",
            "89\n",
            "144\n",
            "233\n",
            "377\n"
          ],
          "name": "stdout"
        }
      ]
    },
    {
      "cell_type": "markdown",
      "metadata": {
        "id": "Wv1vuyQxICQY"
      },
      "source": [
        "Fibonacci series using loop\n"
      ]
    },
    {
      "cell_type": "code",
      "metadata": {
        "colab": {
          "base_uri": "https://localhost:8080/"
        },
        "id": "F3g5_Cu1DqsK",
        "outputId": "a5b9dd6a-15b2-4f56-f50a-0ecc4c93c509"
      },
      "source": [
        "t1=0\n",
        "t2=1\n",
        "n=int(input(\"Enter the limit:\"))\n",
        "print(\"The fibonacci series is\")\n",
        "for i in range(n):\n",
        "  if(t1==0):\n",
        "    print(t1)\n",
        "  if(t2==1):\n",
        "    print(t2)\n",
        "  nextterm=t1+t2\n",
        "  t1=t2\n",
        "  t2=nextterm\n",
        "  print(nextterm)\n",
        "  "
      ],
      "execution_count": 30,
      "outputs": [
        {
          "output_type": "stream",
          "text": [
            "Enter the limit:11\n",
            "The fibonacci series is\n",
            "0\n",
            "1\n",
            "1\n",
            "1\n",
            "2\n",
            "3\n",
            "5\n",
            "8\n",
            "13\n",
            "21\n",
            "34\n",
            "55\n",
            "89\n",
            "144\n"
          ],
          "name": "stdout"
        }
      ]
    },
    {
      "cell_type": "markdown",
      "metadata": {
        "id": "NWLt-10MH9Ce"
      },
      "source": [
        ""
      ]
    }
  ]
}